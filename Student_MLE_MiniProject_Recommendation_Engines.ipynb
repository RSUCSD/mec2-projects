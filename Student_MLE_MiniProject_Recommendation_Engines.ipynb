{
  "nbformat": 4,
  "nbformat_minor": 0,
  "metadata": {
    "colab": {
      "provenance": []
    },
    "kernelspec": {
      "name": "python3",
      "display_name": "Python 3"
    },
    "language_info": {
      "name": "python"
    }
  },
  "cells": [
    {
      "cell_type": "markdown",
      "source": [
        "# Mini Project: Recommendation Engines\n",
        "\n",
        "Recommendation engines are algorithms designed to provide personalized suggestions or recommendations to users. These systems analyze user behavior, preferences, and interactions with items (products, movies, music, articles, etc.) to predict and offer items that users are likely to be interested in. Recommendation engines play a crucial role in enhancing user experience, driving engagement, and increasing conversion rates in various applications, including e-commerce, entertainment, content platforms, and more.\n",
        "\n",
        "There are generally two approaches taken in collaborative filtering and content-based recommendation engines:\n",
        "\n",
        "**1. Collaborative Filtering:**\n",
        "Collaborative Filtering is a popular approach to building recommendation systems that leverages the collective behavior of users to make personalized recommendations. It is based on the idea that users who have agreed in the past will likely agree in the future. There are two main types of collaborative filtering:\n",
        "\n",
        "- **User-based Collaborative Filtering:** This method finds users similar to the target user based on their past interactions (e.g., ratings or purchases). It then recommends items that similar users have liked but the target user has not interacted with yet.\n",
        "\n",
        "- **Item-based Collaborative Filtering:** In this approach, the system identifies similar items based on user interactions. It recommends items that are similar to the ones the target user has already liked or interacted with.\n",
        "\n",
        "Collaborative filtering does not require any explicit information about items but relies on the similarity between users or items. It is effective in capturing complex patterns and can provide serendipitous recommendations. However, it suffers from the cold-start problem (i.e., difficulty in recommending to new users or items with no interactions) and scalability challenges in large datasets.\n",
        "\n",
        "**2. Content-Based Recommendation:**\n",
        "Content-based recommendation is an alternative approach to building recommendation systems that focuses on the attributes or features of items and users. It leverages the characteristics of items to make recommendations. The key steps involved in content-based recommendation are:\n",
        "\n",
        "- **Feature Extraction:** For each item, relevant features are extracted. For movies, these features could be genre, director, actors, and plot summary.\n",
        "\n",
        "- **User Profile:** A user profile is created based on the items they have interacted with in the past. The user profile contains the weighted importance of features based on their interactions.\n",
        "\n",
        "- **Similarity Calculation:** The similarity between items or between items and the user profile is calculated using similarity metrics like cosine similarity or Euclidean distance.\n",
        "\n",
        "- **Recommendation:** Items that are most similar to the user profile are recommended to the user.\n",
        "\n",
        "Content-based recommendation systems are less affected by the cold-start problem as they can still recommend items based on their features. They are also more interpretable as they rely on item attributes. However, they may miss out on providing serendipitous recommendations and can be limited by the quality of feature extraction and user profiles.\n",
        "\n",
        "**Choosing Between Collaborative Filtering and Content-Based:**\n",
        "Both collaborative filtering and content-based approaches have their strengths and weaknesses. The choice between them depends on the specific requirements of the recommendation system, the type of data available, and the user base. Hybrid approaches that combine collaborative filtering and content-based techniques are also common, aiming to leverage the strengths of both methods and mitigate their weaknesses."
      ],
      "metadata": {
        "id": "fyXucUekO19i"
      }
    },
    {
      "cell_type": "markdown",
      "source": [
        "In this mini-project, you'll be building both content based and collaborative filtering engines for the [MovieLens 25M dataset](https://grouplens.org/datasets/movielens/25m/). The MovieLens 25M dataset is one of the most widely used and popular datasets for building and evaluating recommendation systems. It is provided by the GroupLens Research project, which collects and studies datasets related to movie ratings and recommendations. The MovieLens 25M dataset contains movie ratings and other related information contributed by users of the MovieLens website.\n",
        "\n",
        "**Dataset Details:**\n",
        "- **Size:** The dataset contains approximately 25 million movie ratings.\n",
        "- **Users:** It includes ratings from over 162,000 users.\n",
        "- **Movies:** The dataset consists of ratings for more than 62,000 movies.\n",
        "- **Ratings:** The ratings are provided on a scale of 1 to 5, where 1 is the lowest rating and 5 is the highest.\n",
        "- **Timestamps:** Each rating is associated with a timestamp, indicating when the rating was given.\n",
        "\n",
        "**Data Files:**\n",
        "The dataset is usually split into three CSV files:\n",
        "\n",
        "1. **movies.csv:** Contains information about movies, including the movie ID, title, genres, and release year.\n",
        "   - Columns: movieId, title, genres\n",
        "\n",
        "2. **ratings.csv:** Contains movie ratings provided by users, including the user ID, movie ID, rating, and timestamp.\n",
        "   - Columns: userId, movieId, rating, timestamp\n",
        "\n",
        "3. **tags.csv:** Contains user-generated tags for movies, including the user ID, movie ID, tag, and timestamp.\n",
        "   - Columns: userId, movieId, tag, timestamp"
      ],
      "metadata": {
        "id": "TYuE9O6I2uRY"
      }
    },
    {
      "cell_type": "markdown",
      "source": [
        "First, import all the libraries you'll need."
      ],
      "metadata": {
        "id": "DN0qzP-cRlMo"
      }
    },
    {
      "cell_type": "code",
      "execution_count": 1,
      "metadata": {
        "id": "kLWR1DfQPakn"
      },
      "outputs": [],
      "source": [
        "import zipfile\n",
        "import numpy as np\n",
        "import pandas as pd\n",
        "from urllib.request import urlretrieve\n",
        "from sklearn.metrics.pairwise import cosine_similarity"
      ]
    },
    {
      "cell_type": "markdown",
      "source": [
        "Next, download the relevant components of the MoveLens dataset. Note, these instructions are roughly based on the colab [here](https://colab.research.google.com/github/google/eng-edu/blob/main/ml/recommendation-systems/recommendation-systems.ipynb?utm_source=ss-recommendation-systems&utm_campaign=colab-external&utm_medium=referral&utm_content=recommendation-systems#scrollTo=O3bcgduFo4s6)."
      ],
      "metadata": {
        "id": "iaG6vAKyREej"
      }
    },
    {
      "cell_type": "code",
      "source": [
        "print(\"Downloading movielens data...\")\n",
        "\n",
        "urlretrieve('http://files.grouplens.org/datasets/movielens/ml-100k.zip', 'movielens.zip')\n",
        "zip_ref = zipfile.ZipFile('movielens.zip', 'r')\n",
        "zip_ref.extractall()\n",
        "print(\"Done. Dataset contains:\")\n",
        "print(zip_ref.read('ml-100k/u.info'))\n",
        "\n",
        "ratings_cols = ['user_id', 'movie_id', 'rating', 'unix_timestamp']\n",
        "ratings = pd.read_csv(\n",
        "    'ml-100k/u.data', sep='\\t', names=ratings_cols, encoding='latin-1')\n",
        "\n",
        "# The movies file contains a binary feature for each genre.\n",
        "genre_cols = [\n",
        "    \"genre_unknown\", \"Action\", \"Adventure\", \"Animation\", \"Children\", \"Comedy\",\n",
        "    \"Crime\", \"Documentary\", \"Drama\", \"Fantasy\", \"Film-Noir\", \"Horror\",\n",
        "    \"Musical\", \"Mystery\", \"Romance\", \"Sci-Fi\", \"Thriller\", \"War\", \"Western\"\n",
        "]\n",
        "movies_cols = [\n",
        "    'movie_id', 'title', 'release_date', \"video_release_date\", \"imdb_url\"\n",
        "] + genre_cols\n",
        "movies = pd.read_csv(\n",
        "    'ml-100k/u.item', sep='|', names=movies_cols, encoding='latin-1')"
      ],
      "metadata": {
        "id": "-wCvx2ukPm-3",
        "colab": {
          "base_uri": "https://localhost:8080/"
        },
        "outputId": "be6d5f0a-ab1e-43f4-8cfb-23e95d4c4475"
      },
      "execution_count": 2,
      "outputs": [
        {
          "output_type": "stream",
          "name": "stdout",
          "text": [
            "Downloading movielens data...\n",
            "Done. Dataset contains:\n",
            "b'943 users\\n1682 items\\n100000 ratings\\n'\n"
          ]
        }
      ]
    },
    {
      "cell_type": "markdown",
      "source": [
        "Before doing any kind of machine learning, it's always good to familiarize yourself with the datasets you'lll be working with.\n",
        "\n",
        "Here are your tasks:\n",
        "\n",
        "1. Spend some time familiarizing yourself with both the `movies` and `ratings` dataframes. How many unique user ids are present? How many unique movies are there?\n",
        "2. Create a new dataframe that merges the `movies` and `ratings` tables on 'movie_id'. Only keep the 'user_id', 'title', 'rating' fields in this new dataframe."
      ],
      "metadata": {
        "id": "pLAMVhnbR-Cy"
      }
    },
    {
      "cell_type": "code",
      "source": [
        "# Spend some time familiarizing yourself with both the movies and ratings dataframes.\n",
        "print(movies.head())\n",
        "print(ratings.head())\n",
        "\n",
        "# How many unique user ids are present? How many unique movies are there?\n",
        "print(ratings['user_id'].nunique())\n",
        "print(ratings['movie_id'].nunique())"
      ],
      "metadata": {
        "id": "vp7Tx7H_P5f2",
        "colab": {
          "base_uri": "https://localhost:8080/"
        },
        "outputId": "76684652-3d32-4917-8def-20d19602cc1f"
      },
      "execution_count": 3,
      "outputs": [
        {
          "output_type": "stream",
          "name": "stdout",
          "text": [
            "   movie_id              title release_date  video_release_date  \\\n",
            "0         1   Toy Story (1995)  01-Jan-1995                 NaN   \n",
            "1         2   GoldenEye (1995)  01-Jan-1995                 NaN   \n",
            "2         3  Four Rooms (1995)  01-Jan-1995                 NaN   \n",
            "3         4  Get Shorty (1995)  01-Jan-1995                 NaN   \n",
            "4         5     Copycat (1995)  01-Jan-1995                 NaN   \n",
            "\n",
            "                                            imdb_url  genre_unknown  Action  \\\n",
            "0  http://us.imdb.com/M/title-exact?Toy%20Story%2...              0       0   \n",
            "1  http://us.imdb.com/M/title-exact?GoldenEye%20(...              0       1   \n",
            "2  http://us.imdb.com/M/title-exact?Four%20Rooms%...              0       0   \n",
            "3  http://us.imdb.com/M/title-exact?Get%20Shorty%...              0       1   \n",
            "4  http://us.imdb.com/M/title-exact?Copycat%20(1995)              0       0   \n",
            "\n",
            "   Adventure  Animation  Children  ...  Fantasy  Film-Noir  Horror  Musical  \\\n",
            "0          0          1         1  ...        0          0       0        0   \n",
            "1          1          0         0  ...        0          0       0        0   \n",
            "2          0          0         0  ...        0          0       0        0   \n",
            "3          0          0         0  ...        0          0       0        0   \n",
            "4          0          0         0  ...        0          0       0        0   \n",
            "\n",
            "   Mystery  Romance  Sci-Fi  Thriller  War  Western  \n",
            "0        0        0       0         0    0        0  \n",
            "1        0        0       0         1    0        0  \n",
            "2        0        0       0         1    0        0  \n",
            "3        0        0       0         0    0        0  \n",
            "4        0        0       0         1    0        0  \n",
            "\n",
            "[5 rows x 24 columns]\n",
            "   user_id  movie_id  rating  unix_timestamp\n",
            "0      196       242       3       881250949\n",
            "1      186       302       3       891717742\n",
            "2       22       377       1       878887116\n",
            "3      244        51       2       880606923\n",
            "4      166       346       1       886397596\n",
            "943\n",
            "1682\n"
          ]
        }
      ]
    },
    {
      "cell_type": "code",
      "source": [
        "# Merge movies and ratings dataframes\n",
        "merged_df = pd.merge(movies[['movie_id', 'title']], ratings, on='movie_id')\n",
        "merged_df = merged_df[['user_id', 'title', 'rating']]\n",
        "print(merged_df.head())\n"
      ],
      "metadata": {
        "id": "f6MrymMJRMjB",
        "colab": {
          "base_uri": "https://localhost:8080/"
        },
        "outputId": "63f1994d-b60a-4f01-d17d-a6414ba27752"
      },
      "execution_count": 4,
      "outputs": [
        {
          "output_type": "stream",
          "name": "stdout",
          "text": [
            "   user_id             title  rating\n",
            "0      308  Toy Story (1995)       4\n",
            "1      287  Toy Story (1995)       5\n",
            "2      148  Toy Story (1995)       4\n",
            "3      280  Toy Story (1995)       4\n",
            "4       66  Toy Story (1995)       3\n"
          ]
        }
      ]
    },
    {
      "cell_type": "markdown",
      "source": [
        "As mentioned in the introduction, content-Based Filtering is a recommendation engine approach that focuses on the attributes or features of items (products, movies, music, articles, etc.) and leverages these features to make personalized recommendations. The underlying idea is to match the characteristics of items with the preferences of users to suggest items that align with their interests. Content-based filtering is particularly useful when explicit user-item interactions (e.g., ratings or purchases) are sparse or unavailable.\n",
        "\n",
        "**Key Steps in Content-Based Filtering:**\n",
        "\n",
        "1. **Feature Extraction:**\n",
        "   - For each item, relevant features are extracted. These features are typically descriptive attributes that can be represented numerically, such as genre, director, actors, author, publication date, and keywords.\n",
        "   - In the case of text-based items, natural language processing techniques may be used to extract features like TF-IDF (Term Frequency-Inverse Document Frequency) scores.\n",
        "\n",
        "2. **User Profile Creation:**\n",
        "   - A user profile is created based on the items they have interacted with in the past. The user profile contains the weighted importance of features based on their interactions.\n",
        "   - For example, if a user has watched several action movies, the action genre feature would receive a higher weight in their profile.\n",
        "\n",
        "3. **Similarity Calculation:**\n",
        "   - The similarity between items or between items and the user profile is calculated using similarity metrics like cosine similarity, Euclidean distance, or Pearson correlation.\n",
        "   - Cosine similarity is commonly used as it measures the cosine of the angle between two vectors, which represents their similarity.\n",
        "\n",
        "4. **Recommendation:**\n",
        "   - Items that are most similar to the user profile are recommended to the user. These are items whose features have the highest similarity scores with the user profile.\n",
        "   - The recommended items are presented as a list sorted by their similarity scores.\n",
        "\n",
        "**Advantages of Content-Based Filtering:**\n",
        "1. **No Cold-Start Problem:** Content-based filtering can make recommendations even for new users with no historical interactions because it relies on item features rather than user history.\n",
        "\n",
        "2. **User Independence:** The recommendations are based solely on the features of items and do not require knowledge of other users' preferences or behavior.\n",
        "\n",
        "3. **Transparency:** Content-based recommendations are interpretable, as they depend on the features of items, making it easier for users to understand why specific items are recommended.\n",
        "\n",
        "4. **Serendipity:** Content-based filtering can recommend items with characteristics not seen before by the user, leading to serendipitous discoveries.\n",
        "\n",
        "5. **Diversity in Recommendations:** The method can offer diverse recommendations since it suggests items with different feature combinations.\n",
        "\n",
        "**Limitations of Content-Based Filtering:**\n",
        "1. **Limited Discovery:** Content-based filtering may struggle to recommend items outside the scope of users' historical interactions or interests.\n",
        "\n",
        "2. **Over-Specialization:** Users may receive recommendations that are too similar to their previous choices, leading to a lack of exposure to new item categories.\n",
        "\n",
        "3. **Dependency on Feature Quality:** The quality and relevance of item features significantly influence the quality of recommendations.\n",
        "\n",
        "4. **Limited for Cold Items:** Content-based filtering can struggle to recommend new items with limited feature information."
      ],
      "metadata": {
        "id": "_U44W0TMT3qf"
      }
    },
    {
      "cell_type": "markdown",
      "source": [
        "Here is your task:\n",
        "\n",
        "1. Write a function that takes in a user id and the dataframe you created before that contains 'user_id', 'title', and 'rating'. The function should return content-based recommendations for this user. Here are steps you can take:\n",
        "\n",
        "  A. Get the user's rated movies\n",
        "\n",
        "  B. Create a TF-IDF matrix using movie genres. Note, this can be extracted from the `movies` dataframe.\n",
        "\n",
        "  C. Compute the cosine similarity between movie genres. Use the [cosine_similarity](https://scikit-learn.org/stable/modules/generated/sklearn.metrics.pairwise.cosine_similarity.html) function.\n",
        "\n",
        "  D. Get the indices of similar movies to those rated by the user based on cosine similarity. Keep only the top 5.\n",
        "\n",
        "  E. Remove duplicates and movies already rated by the user."
      ],
      "metadata": {
        "id": "sbJGD7j7Ui-8"
      }
    },
    {
      "cell_type": "code",
      "source": [
        "# Content-Based Filtering using Movie Genres\n",
        "def content_based_recommendation(user_id, df):\n",
        "  # Get the user's rated movies\n",
        "  user_movies = df[df['user_id'] == user_id]\n",
        "  user_genres = user_movies['title'].values\n",
        "  print(user_genres)\n",
        "\n",
        "  # Create a TF-IDF matrix using movie genres\n",
        "  from sklearn.feature_extraction.text import TfidfVectorizer\n",
        "  tfidf = TfidfVectorizer(stop_words='english')\n",
        "  tfidf_matrix = tfidf.fit_transform(df['title'])\n",
        "  print(tfidf_matrix)\n",
        "\n",
        "  # Compute the cosine similarity between movie genres\n",
        "  cosine_sim = cosine_similarity(tfidf_matrix, tfidf_matrix)\n",
        "  print(cosine_sim)\n",
        "\n",
        "  # Get the indices of the similar movies based on cosine similarity\n",
        "  idx = df[df['title'].isin(user_genres)].index\n",
        "  print(idx)\n",
        "  sim_scores = list(enumerate(cosine_sim[idx]))\n",
        "  print(sim_scores)\n",
        "\n",
        "  # Remove duplicates and movies already rated by the user\n",
        "  sim_scores = sorted(sim_scores, key=lambda x: x[1], reverse=True)\n",
        "  sim_scores = [i for i in sim_scores if i[0] not in idx]\n",
        "  sim_scores = sim_scores[:5]\n",
        "  print(sim_scores)"
      ],
      "metadata": {
        "id": "JwBQSC-POTzn"
      },
      "execution_count": 6,
      "outputs": []
    },
    {
      "cell_type": "markdown",
      "source": [
        "The key idea behind collaborative filtering is that users who have agreed in the past will likely agree in the future. Instead of relying on item attributes or user profiles, collaborative filtering identifies patterns of user behavior and item preferences from the interactions present in the data.\n",
        "\n",
        "**Types of Collaborative Filtering:**\n",
        "There are two main types of collaborative filtering:\n",
        "\n",
        "**Collaborative Filtering Process:**\n",
        "The collaborative filtering process typically involves the following steps:\n",
        "\n",
        "1. **Data Collection:**\n",
        "   - Gather data on user-item interactions, such as movie ratings, product purchases, or article clicks.\n",
        "\n",
        "2. **User-Item Matrix:**\n",
        "   - Organize the data into a user-item matrix, where rows represent users, columns represent items, and the entries contain the users' interactions (e.g., ratings).\n",
        "\n",
        "3. **Similarity Calculation:**\n",
        "   - Calculate the similarity between users or items using similarity metrics such as cosine similarity, Pearson correlation, or Jaccard similarity.\n",
        "   - For user-based collaborative filtering, user similarities are calculated, and for item-based collaborative filtering, item similarities are calculated.\n",
        "\n",
        "4. **Neighborhood Selection:**\n",
        "   - For each user or item, select the most similar users or items as the neighborhood.\n",
        "   - The size of the neighborhood (the number of similar users or items to consider) is an important parameter to control the system's behavior.\n",
        "\n",
        "5. **Prediction Generation:**\n",
        "   - Predict the ratings for items that the target user has not yet interacted with by combining the ratings of neighboring users or items.\n",
        "\n",
        "6. **Recommendation Generation:**\n",
        "   - Recommend items with the highest predicted ratings to the target user.\n",
        "\n",
        "**Advantages of Collaborative Filtering using User-Item Interactions:**\n",
        "- Collaborative filtering is based solely on user interactions and does not require knowledge of item attributes, making it useful for cases where item data is sparse or unavailable.\n",
        "- It can provide serendipitous recommendations, suggesting items that users may not have discovered on their own.\n",
        "- Collaborative filtering can be applied in various domains, including e-commerce, music, movie, and content recommendations.\n",
        "\n",
        "**Limitations of Collaborative Filtering:**\n",
        "- The cold-start problem: Collaborative filtering struggles to recommend to new users or items with no or limited interaction history.\n",
        "- It may suffer from sparsity when data is limited or when users have only interacted with a small subset of items.\n",
        "- Scalability issues can arise with large datasets and an increasing number of users or items."
      ],
      "metadata": {
        "id": "2NNt3gHLYDxU"
      }
    },
    {
      "cell_type": "markdown",
      "source": [
        "Here is your task:\n",
        "\n",
        "1. Write a function that takes in a user id and the dataframe you created before that contains 'user_id', 'title', and 'rating'. The function should return collaborative filtering recommendations for this user based on a user-item interaction matrix. Here are steps you can take:\n",
        "\n",
        "  A. Create the user-item matrix using Pandas' [pivot_table](https://pandas.pydata.org/docs/reference/api/pandas.pivot_table.html).\n",
        "\n",
        "  B. Fill missing values with zeros in this matrix.\n",
        "\n",
        "  C. Calculate user-user similarity matrix using cosine similarity.\n",
        "\n",
        "  D. Get the array of similarity scores of the target user with all other users from the similarity matrix.\n",
        "\n",
        "  E. Extract, say the the top 5 most similar users (excluding the target user).\n",
        "\n",
        "  F. Generate movie recommendations based on the most similar users.\n",
        "\n",
        "  G. Remove duplicate movies recommendations."
      ],
      "metadata": {
        "id": "ks4mWyCaYVNY"
      }
    },
    {
      "cell_type": "code",
      "source": [
        "# Collaborative Filtering using User-Item Interactions\n",
        "def collaborative_filtering_recommendation(user_id, df):\n",
        "  # Create the user-item matrix\n",
        "  user_item_matrix = pd.pivot_table(df, values='rating', index='user_id', columns='title', fill_value=0)\n",
        "  print(user_item_matrix)\n",
        "\n",
        "  # Fill missing values with 0 (indicating no rating)\n",
        "  user_item_matrix = user_item_matrix.fillna(0)\n",
        "  print(user_item_matrix)\n",
        "\n",
        "  # Calculate user-user similarity matrix using cosine similarity\n",
        "  user_similarity = cosine_similarity(user_item_matrix)\n",
        "  print(user_similarity)\n",
        "\n",
        "  # Get the similarity scores of the target user with all other users\n",
        "  user_similarity_scores = user_similarity[user_id]\n",
        "  print(user_similarity_scores)\n",
        "\n",
        "  # Find the top N most similar users (excluding the target user)\n",
        "  N = 5\n",
        "  top_similar_users = np.argsort(user_similarity_scores)[::-1][1:N+1]\n",
        "  print(top_similar_users)\n",
        "\n",
        "  # Generate movie recommendations based on the most similar users\n",
        "  recommendations = []\n",
        "  for user in top_similar_users:\n",
        "    recommendations.extend(df[df['user_id'] == user]['title'].values)\n",
        "  print(recommendations)\n",
        "\n",
        "  # Remove duplicates from recommendations\n",
        "  recommendations = list(set(recommendations))\n",
        "  print(recommendations)"
      ],
      "metadata": {
        "id": "BqZPgKRDWf-c"
      },
      "execution_count": 7,
      "outputs": []
    },
    {
      "cell_type": "markdown",
      "source": [
        "Now, test your recommendations engines! Select a few user ids and generate recommendations using both functions you've written. Are the recommendations similar? Do the recommendations make sense?"
      ],
      "metadata": {
        "id": "-Jj883VAZRNe"
      }
    },
    {
      "cell_type": "code",
      "source": [
        "# Test the recommendation engines\n",
        "user_ids = [1, 2, 3]\n",
        "for user_id in user_ids:\n",
        "  print(f\"Recommendations for user {user_id}:\")\n",
        "  print(content_based_recommendation(user_id, merged_df))\n",
        "  print(collaborative_filtering_recommendation(user_id, merged_df))\n"
      ],
      "metadata": {
        "id": "kt9nuOTNJXz8",
        "colab": {
          "base_uri": "https://localhost:8080/"
        },
        "outputId": "b65da582-165c-4847-c7ec-7fc502304ffa"
      },
      "execution_count": null,
      "outputs": [
        {
          "output_type": "stream",
          "name": "stdout",
          "text": [
            "Recommendations for user 1:\n",
            "['Toy Story (1995)' 'GoldenEye (1995)' 'Four Rooms (1995)'\n",
            " 'Get Shorty (1995)' 'Copycat (1995)'\n",
            " 'Shanghai Triad (Yao a yao yao dao waipo qiao) (1995)'\n",
            " 'Twelve Monkeys (1995)' 'Babe (1995)' 'Dead Man Walking (1995)'\n",
            " 'Richard III (1995)' 'Seven (Se7en) (1995)' 'Usual Suspects, The (1995)'\n",
            " 'Mighty Aphrodite (1995)' 'Postino, Il (1994)'\n",
            " \"Mr. Holland's Opus (1995)\" 'French Twist (Gazon maudit) (1995)'\n",
            " 'From Dusk Till Dawn (1996)' 'White Balloon, The (1995)'\n",
            " \"Antonia's Line (1995)\" 'Angels and Insects (1995)'\n",
            " 'Muppet Treasure Island (1996)' 'Braveheart (1995)' 'Taxi Driver (1976)'\n",
            " 'Rumble in the Bronx (1995)' 'Birdcage, The (1996)'\n",
            " 'Brothers McMullen, The (1995)' 'Bad Boys (1995)' 'Apollo 13 (1995)'\n",
            " 'Batman Forever (1995)' 'Belle de jour (1967)' 'Crimson Tide (1995)'\n",
            " 'Crumb (1994)' 'Desperado (1995)' 'Doom Generation, The (1995)'\n",
            " 'Free Willy 2: The Adventure Home (1995)' 'Mad Love (1995)'\n",
            " 'Nadja (1994)' 'Net, The (1995)' 'Strange Days (1995)'\n",
            " 'To Wong Foo, Thanks for Everything! Julie Newmar (1995)'\n",
            " 'Billy Madison (1995)' 'Clerks (1994)' 'Disclosure (1994)'\n",
            " 'Dolores Claiborne (1994)' 'Eat Drink Man Woman (1994)' 'Exotica (1994)'\n",
            " 'Ed Wood (1994)' 'Hoop Dreams (1994)' 'I.Q. (1994)' 'Star Wars (1977)'\n",
            " 'Legends of the Fall (1994)' 'Madness of King George, The (1994)'\n",
            " 'Natural Born Killers (1994)' 'Outbreak (1995)'\n",
            " 'Professional, The (1994)' 'Pulp Fiction (1994)' 'Priest (1994)'\n",
            " 'Quiz Show (1994)' 'Three Colors: Red (1994)' 'Three Colors: Blue (1993)'\n",
            " 'Three Colors: White (1994)' 'Stargate (1994)' 'Santa Clause, The (1994)'\n",
            " 'Shawshank Redemption, The (1994)' \"What's Eating Gilbert Grape (1993)\"\n",
            " 'While You Were Sleeping (1995)' 'Ace Ventura: Pet Detective (1994)'\n",
            " 'Crow, The (1994)' 'Forrest Gump (1994)'\n",
            " 'Four Weddings and a Funeral (1994)' 'Lion King, The (1994)'\n",
            " 'Mask, The (1994)' 'Maverick (1994)'\n",
            " 'Faster Pussycat! Kill! Kill! (1965)'\n",
            " 'Brother Minister: The Assassination of Malcolm X (1994)'\n",
            " \"Carlito's Way (1993)\" 'Firm, The (1993)' 'Free Willy (1993)'\n",
            " 'Fugitive, The (1993)' 'Hot Shots! Part Deux (1993)'\n",
            " 'Hudsucker Proxy, The (1994)' 'Jurassic Park (1993)'\n",
            " 'Much Ado About Nothing (1993)'\n",
            " \"Robert A. Heinlein's The Puppet Masters (1994)\" 'Ref, The (1994)'\n",
            " 'Remains of the Day, The (1993)' 'Searching for Bobby Fischer (1993)'\n",
            " 'Sleepless in Seattle (1993)' 'Blade Runner (1982)'\n",
            " 'So I Married an Axe Murderer (1993)'\n",
            " 'Nightmare Before Christmas, The (1993)' 'True Romance (1993)'\n",
            " 'Welcome to the Dollhouse (1995)' 'Home Alone (1990)' 'Aladdin (1992)'\n",
            " 'Terminator 2: Judgment Day (1991)' 'Dances with Wolves (1990)'\n",
            " 'Silence of the Lambs, The (1991)'\n",
            " 'Snow White and the Seven Dwarfs (1937)' 'Fargo (1996)'\n",
            " 'Heavy Metal (1981)' 'Aristocats, The (1970)'\n",
            " 'All Dogs Go to Heaven 2 (1996)' 'Theodore Rex (1995)'\n",
            " 'Sgt. Bilko (1996)' 'Diabolique (1996)' 'Moll Flanders (1996)'\n",
            " 'Kids in the Hall: Brain Candy (1996)'\n",
            " 'Mystery Science Theater 3000: The Movie (1996)'\n",
            " 'Operation Dumbo Drop (1995)' 'Truth About Cats & Dogs, The (1996)'\n",
            " 'Flipper (1996)'\n",
            " 'Horseman on the Roof, The (Hussard sur le toit, Le) (1995)'\n",
            " 'Wallace & Gromit: The Best of Aardman Animation (1996)'\n",
            " 'Haunted World of Edward D. Wood Jr., The (1995)'\n",
            " 'Cold Comfort Farm (1995)' 'Rock, The (1996)' 'Twister (1996)'\n",
            " 'Maya Lin: A Strong Clear Vision (1994)' 'Striptease (1996)'\n",
            " 'Independence Day (ID4) (1996)' 'Cable Guy, The (1996)'\n",
            " 'Frighteners, The (1996)' 'Lone Star (1996)' 'Phenomenon (1996)'\n",
            " 'Spitfire Grill, The (1996)' 'Godfather, The (1972)' 'Supercop (1992)'\n",
            " 'Bound (1996)' 'Kansas City (1996)' \"Breakfast at Tiffany's (1961)\"\n",
            " 'Wizard of Oz, The (1939)' 'Gone with the Wind (1939)'\n",
            " 'Citizen Kane (1941)' '2001: A Space Odyssey (1968)'\n",
            " 'Mr. Smith Goes to Washington (1939)' 'Big Night (1996)'\n",
            " 'D3: The Mighty Ducks (1996)' 'Love Bug, The (1969)'\n",
            " 'Homeward Bound: The Incredible Journey (1993)'\n",
            " '20,000 Leagues Under the Sea (1954)' 'Bedknobs and Broomsticks (1971)'\n",
            " 'Sound of Music, The (1965)' 'Die Hard (1988)'\n",
            " 'Lawnmower Man, The (1992)' 'Unhook the Stars (1996)'\n",
            " 'Long Kiss Goodnight, The (1996)' 'Ghost and the Darkness, The (1996)'\n",
            " 'Jude (1996)' 'Swingers (1996)'\n",
            " 'Willy Wonka and the Chocolate Factory (1971)' 'Sleeper (1973)'\n",
            " 'Fish Called Wanda, A (1988)' \"Monty Python's Life of Brian (1979)\"\n",
            " 'Dirty Dancing (1987)' 'Reservoir Dogs (1992)' 'Platoon (1986)'\n",
            " \"Weekend at Bernie's (1989)\" 'Basic Instinct (1992)'\n",
            " 'Glengarry Glen Ross (1992)' 'Top Gun (1986)' 'On Golden Pond (1981)'\n",
            " 'Return of the Pink Panther, The (1974)' 'Abyss, The (1989)'\n",
            " 'Jean de Florette (1986)'\n",
            " 'Manon of the Spring (Manon des sources) (1986)'\n",
            " 'Private Benjamin (1980)' 'Monty Python and the Holy Grail (1974)'\n",
            " 'Wrong Trousers, The (1993)' 'Cinema Paradiso (1988)'\n",
            " 'Delicatessen (1991)' 'Empire Strikes Back, The (1980)'\n",
            " 'Princess Bride, The (1987)' 'Raiders of the Lost Ark (1981)'\n",
            " 'Brazil (1985)' 'Aliens (1986)' 'Good, The Bad and The Ugly, The (1966)'\n",
            " '12 Angry Men (1957)' 'Clockwork Orange, A (1971)'\n",
            " 'Apocalypse Now (1979)' 'Return of the Jedi (1983)' 'GoodFellas (1990)'\n",
            " 'Alien (1979)' 'Army of Darkness (1993)' 'Psycho (1960)'\n",
            " 'Blues Brothers, The (1980)' 'Godfather: Part II, The (1974)'\n",
            " 'Full Metal Jacket (1987)' 'Grand Day Out, A (1992)' 'Henry V (1989)'\n",
            " 'Amadeus (1984)' 'Raging Bull (1980)' 'Right Stuff, The (1983)'\n",
            " 'Sting, The (1973)' 'Terminator, The (1984)' 'Dead Poets Society (1989)'\n",
            " 'Graduate, The (1967)' 'Nikita (La Femme Nikita) (1990)'\n",
            " 'Bridge on the River Kwai, The (1957)' 'Shining, The (1980)'\n",
            " 'Evil Dead II (1987)' 'Groundhog Day (1993)' 'Unforgiven (1992)'\n",
            " 'Back to the Future (1985)' 'Patton (1970)' 'Akira (1988)'\n",
            " 'Cyrano de Bergerac (1990)' 'Young Frankenstein (1974)'\n",
            " 'This Is Spinal Tap (1984)' 'Indiana Jones and the Last Crusade (1989)'\n",
            " 'M*A*S*H (1970)' 'Unbearable Lightness of Being, The (1988)'\n",
            " 'Room with a View, A (1986)' 'Pink Floyd - The Wall (1982)'\n",
            " 'Field of Dreams (1989)' 'When Harry Met Sally... (1989)'\n",
            " \"Bram Stoker's Dracula (1992)\" 'Cape Fear (1991)'\n",
            " 'Nightmare on Elm Street, A (1984)' 'Mirror Has Two Faces, The (1996)'\n",
            " 'Breaking the Waves (1996)' 'Star Trek: First Contact (1996)'\n",
            " 'Sling Blade (1996)' 'Ridicule (1996)' '101 Dalmatians (1996)'\n",
            " 'Die Hard 2 (1990)' 'Star Trek VI: The Undiscovered Country (1991)'\n",
            " 'Star Trek: The Wrath of Khan (1982)'\n",
            " 'Star Trek III: The Search for Spock (1984)'\n",
            " 'Star Trek IV: The Voyage Home (1986)' 'Batman Returns (1992)'\n",
            " 'Young Guns (1988)' 'Under Siege (1992)' 'Jaws (1975)'\n",
            " 'Mars Attacks! (1996)' 'Citizen Ruth (1996)' 'Jerry Maguire (1996)'\n",
            " 'Raising Arizona (1987)' 'Sneakers (1992)'\n",
            " 'Beavis and Butt-head Do America (1996)'\n",
            " 'Last of the Mohicans, The (1992)' 'Kolya (1996)' 'Jungle2Jungle (1997)'\n",
            " \"Smilla's Sense of Snow (1997)\" \"Devil's Own, The (1997)\"\n",
            " 'Chasing Amy (1997)' 'Turbo: A Power Rangers Movie (1997)'\n",
            " 'Grosse Pointe Blank (1997)'\n",
            " 'Austin Powers: International Man of Mystery (1997)'\n",
            " 'Fifth Element, The (1997)' 'Shall We Dance? (1996)'\n",
            " 'Lost World: Jurassic Park, The (1997)' 'Pillow Book, The (1995)'\n",
            " 'Batman & Robin (1997)' \"My Best Friend's Wedding (1997)\"\n",
            " 'When the Cats Away (Chacun cherche son chat) (1996)'\n",
            " 'Men in Black (1997)' 'Contact (1997)' 'George of the Jungle (1997)'\n",
            " 'Event Horizon (1997)' 'Air Bud (1997)' 'In the Company of Men (1997)'\n",
            " 'Steel (1997)' 'Mimic (1997)' 'Hunt for Red October, The (1990)'\n",
            " 'Kull the Conqueror (1997)' 'unknown' 'Chasing Amy (1997)'\n",
            " 'Full Monty, The (1997)' 'Gattaca (1997)' 'Starship Troopers (1997)'\n",
            " 'Good Will Hunting (1997)']\n",
            "  (0, 2094)\t0.683505542569878\n",
            "  (0, 1972)\t0.6511871993210696\n",
            "  (0, 74)\t0.3298111652395023\n",
            "  (1, 2094)\t0.683505542569878\n",
            "  (1, 1972)\t0.6511871993210696\n",
            "  (1, 74)\t0.3298111652395023\n",
            "  (2, 2094)\t0.683505542569878\n",
            "  (2, 1972)\t0.6511871993210696\n",
            "  (2, 74)\t0.3298111652395023\n",
            "  (3, 2094)\t0.683505542569878\n",
            "  (3, 1972)\t0.6511871993210696\n",
            "  (3, 74)\t0.3298111652395023\n",
            "  (4, 2094)\t0.683505542569878\n",
            "  (4, 1972)\t0.6511871993210696\n",
            "  (4, 74)\t0.3298111652395023\n",
            "  (5, 2094)\t0.683505542569878\n",
            "  (5, 1972)\t0.6511871993210696\n",
            "  (5, 74)\t0.3298111652395023\n",
            "  (6, 2094)\t0.683505542569878\n",
            "  (6, 1972)\t0.6511871993210696\n",
            "  (6, 74)\t0.3298111652395023\n",
            "  (7, 2094)\t0.683505542569878\n",
            "  (7, 1972)\t0.6511871993210696\n",
            "  (7, 74)\t0.3298111652395023\n",
            "  (8, 2094)\t0.683505542569878\n",
            "  :\t:\n",
            "  (99991, 1324)\t0.664286341294175\n",
            "  (99991, 1750)\t0.664286341294175\n",
            "  (99992, 75)\t0.2206703338243027\n",
            "  (99992, 2001)\t0.9753484524875562\n",
            "  (99993, 75)\t0.24727965475594882\n",
            "  (99993, 1035)\t0.563556732801402\n",
            "  (99993, 2207)\t0.788198313407221\n",
            "  (99994, 74)\t0.34113897184005065\n",
            "  (99994, 2014)\t0.9400128732586128\n",
            "  (99995, 76)\t0.1693210841676275\n",
            "  (99995, 1347)\t0.696896825382459\n",
            "  (99995, 2023)\t0.696896825382459\n",
            "  (99996, 77)\t0.5332757447683092\n",
            "  (99996, 1407)\t0.8459414755417807\n",
            "  (99997, 77)\t0.3873941137436084\n",
            "  (99997, 664)\t0.5752902420711358\n",
            "  (99997, 1893)\t0.7203935993708841\n",
            "  (99998, 73)\t0.32375714335208094\n",
            "  (99998, 528)\t0.946140218006031\n",
            "  (99999, 70)\t0.21221772220175789\n",
            "  (99999, 1806)\t0.2625681684594633\n",
            "  (99999, 1967)\t0.34564168306923\n",
            "  (99999, 1803)\t0.5054876926363326\n",
            "  (99999, 190)\t0.5054876926363326\n",
            "  (99999, 1959)\t0.5054876926363326\n"
          ]
        }
      ]
    }
  ]
}